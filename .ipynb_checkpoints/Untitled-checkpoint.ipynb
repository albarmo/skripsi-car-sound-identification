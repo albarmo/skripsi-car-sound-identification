{
 "cells": [
  {
   "cell_type": "code",
   "execution_count": 1,
   "id": "c235aaf2",
   "metadata": {},
   "outputs": [],
   "source": [
    "from python_speech_features import mfcc, logfbank\n",
    "from scipy.io import wavfile\n",
    "import numpy as np\n",
    "import matplotlib.pyplot as plt\n",
    "from hmmlearn import hmm\n",
    "from sklearn.metrics import confusion_matrix\n",
    "import itertools\n",
    "import os"
   ]
  },
  {
   "cell_type": "code",
   "execution_count": 2,
   "id": "42d7476e",
   "metadata": {},
   "outputs": [
    {
     "name": "stderr",
     "output_type": "stream",
     "text": [
      "WARNING:root:frame length (1103) is greater than FFT size (512), frame will be truncated. Increase NFFT to avoid.\n",
      "WARNING:root:frame length (1103) is greater than FFT size (512), frame will be truncated. Increase NFFT to avoid.\n"
     ]
    }
   ],
   "source": [
    "sampling_freq, audio = wavfile.read(\"/Users/albarms//Desktop/Skripsi Speech Recognation/Spoken-Digit-Recognition-master/car_sound_dataset/altenator-avanza2017-0.wav\")\n",
    "mfcc_features = mfcc(audio, sampling_freq)\n",
    "filterbank_features = logfbank(audio, sampling_freq)"
   ]
  },
  {
   "cell_type": "code",
   "execution_count": 3,
   "id": "0cdb0bcf",
   "metadata": {},
   "outputs": [
    {
     "name": "stdout",
     "output_type": "stream",
     "text": [
      "\n",
      "MFCC:\n",
      "Number of windows = 199\n",
      "Length of each feature = 13\n",
      "\n",
      "Filter bank:\n",
      "Number of windows = 199\n",
      "Length of each feature = 26\n"
     ]
    }
   ],
   "source": [
    "print ('\\nMFCC:\\nNumber of windows =', mfcc_features.shape[0])\n",
    "print ('Length of each feature =', mfcc_features.shape[1])\n",
    "print ('\\nFilter bank:\\nNumber of windows =', filterbank_features.shape[0])\n",
    "print ('Length of each feature =', filterbank_features.shape[1])"
   ]
  },
  {
   "cell_type": "code",
   "execution_count": 4,
   "id": "3e7bb8ff",
   "metadata": {},
   "outputs": [
    {
     "ename": "SyntaxError",
     "evalue": "invalid character in identifier (<ipython-input-4-9f53a0ab5dd4>, line 12)",
     "output_type": "error",
     "traceback": [
      "\u001b[0;36m  File \u001b[0;32m\"<ipython-input-4-9f53a0ab5dd4>\"\u001b[0;36m, line \u001b[0;32m12\u001b[0m\n\u001b[0;31m    plt.yscale(‘linear’)\u001b[0m\n\u001b[0m                      ^\u001b[0m\n\u001b[0;31mSyntaxError\u001b[0m\u001b[0;31m:\u001b[0m invalid character in identifier\n"
     ]
    }
   ],
   "source": [
    "import glob\n",
    "import os.path as path\n",
    "genre_list = ['blues', 'classical', 'jazz', 'country']\n",
    "print(len(genre_list))\n",
    "figure = plt.figure(figsize=(20,3))\n",
    "for idx ,genre in enumerate(genre_list): \n",
    "   example_data_path = \"genres/\" + genre\n",
    "   file_paths = glob.glob(path.join(example_data_path, \"*.wav\"))\n",
    "   sampling_freq, audio = wavfile.read(file_paths[0])\n",
    "   mfcc_features = mfcc(audio, sampling_freq, nfft=1024)\n",
    "   print(file_paths[0], mfcc_features.shape[0])\n",
    "   plt.yscale(\"linear\")\n",
    "   plt.matshow((mfcc_features.T)[:,:300])\n",
    "   plt.text(150, -10, genre, horizontalalignment=\"center\", fontsize=20)\n",
    " \n",
    "plt.yscale(\"linear\")\n",
    "plt.show()"
   ]
  },
  {
   "cell_type": "code",
   "execution_count": null,
   "id": "174c5730",
   "metadata": {},
   "outputs": [],
   "source": []
  }
 ],
 "metadata": {
  "kernelspec": {
   "display_name": "Python 3",
   "language": "python",
   "name": "python3"
  },
  "language_info": {
   "codemirror_mode": {
    "name": "ipython",
    "version": 3
   },
   "file_extension": ".py",
   "mimetype": "text/x-python",
   "name": "python",
   "nbconvert_exporter": "python",
   "pygments_lexer": "ipython3",
   "version": "3.8.8"
  }
 },
 "nbformat": 4,
 "nbformat_minor": 5
}

{
 "cells": [
  {
   "cell_type": "code",
   "execution_count": 1,
   "id": "6b2f01c2",
   "metadata": {},
   "outputs": [],
   "source": [
    "from python_speech_features import mfcc, logfbank\n",
    "from scipy.io import wavfile\n",
    "import numpy as np\n",
    "import matplotlib.pyplot as plt\n",
    "from hmmlearn import hmm\n",
    "from sklearn.metrics import confusion_matrix\n",
    "import itertools\n",
    "import os"
   ]
  },
  {
   "cell_type": "code",
   "execution_count": 2,
   "id": "d0edc172",
   "metadata": {},
   "outputs": [
    {
     "name": "stderr",
     "output_type": "stream",
     "text": [
      "WARNING:root:frame length (1103) is greater than FFT size (512), frame will be truncated. Increase NFFT to avoid.\n",
      "WARNING:root:frame length (1103) is greater than FFT size (512), frame will be truncated. Increase NFFT to avoid.\n"
     ]
    }
   ],
   "source": [
    "sampling_freq, audio = wavfile.read(\"/Users/albarms//Desktop/Skripsi Speech Recognation/Spoken-Digit-Recognition-master/car_sound_dataset/altenator-avanza2017-0.wav\")\n",
    "mfcc_features = mfcc(audio, sampling_freq)\n",
    "filterbank_features = logfbank(audio, sampling_freq)"
   ]
  },
  {
   "cell_type": "code",
   "execution_count": 3,
   "id": "f8656676",
   "metadata": {},
   "outputs": [
    {
     "name": "stdout",
     "output_type": "stream",
     "text": [
      "\n",
      "MFCC:\n",
      "Number of windows = 199\n",
      "Length of each feature = 13\n",
      "\n",
      "Filter bank:\n",
      "Number of windows = 199\n",
      "Length of each feature = 26\n"
     ]
    }
   ],
   "source": [
    "print ('\\nMFCC:\\nNumber of windows =', mfcc_features.shape[0])\n",
    "print ('Length of each feature =', mfcc_features.shape[1])\n",
    "print ('\\nFilter bank:\\nNumber of windows =', filterbank_features.shape[0])\n",
    "print ('Length of each feature =', filterbank_features.shape[1])"
   ]
  },
  {
   "cell_type": "code",
   "execution_count": 4,
   "id": "276c158a",
   "metadata": {},
   "outputs": [
    {
     "name": "stdout",
     "output_type": "stream",
     "text": [
      "6\n"
     ]
    },
    {
     "ename": "IndexError",
     "evalue": "list index out of range",
     "output_type": "error",
     "traceback": [
      "\u001b[0;31m---------------------------------------------------------------------------\u001b[0m",
      "\u001b[0;31mIndexError\u001b[0m                                Traceback (most recent call last)",
      "\u001b[0;32m<ipython-input-4-c4b2b94937e5>\u001b[0m in \u001b[0;36m<module>\u001b[0;34m\u001b[0m\n\u001b[1;32m      7\u001b[0m    \u001b[0mexample_data_path\u001b[0m \u001b[0;34m=\u001b[0m \u001b[0;34m\"genres/\"\u001b[0m \u001b[0;34m+\u001b[0m \u001b[0mgenre\u001b[0m\u001b[0;34m\u001b[0m\u001b[0;34m\u001b[0m\u001b[0m\n\u001b[1;32m      8\u001b[0m    \u001b[0mfile_paths\u001b[0m \u001b[0;34m=\u001b[0m \u001b[0mglob\u001b[0m\u001b[0;34m.\u001b[0m\u001b[0mglob\u001b[0m\u001b[0;34m(\u001b[0m\u001b[0mpath\u001b[0m\u001b[0;34m.\u001b[0m\u001b[0mjoin\u001b[0m\u001b[0;34m(\u001b[0m\u001b[0mexample_data_path\u001b[0m\u001b[0;34m,\u001b[0m \u001b[0;34m\"*.wav\"\u001b[0m\u001b[0;34m)\u001b[0m\u001b[0;34m)\u001b[0m\u001b[0;34m\u001b[0m\u001b[0;34m\u001b[0m\u001b[0m\n\u001b[0;32m----> 9\u001b[0;31m    \u001b[0msampling_freq\u001b[0m\u001b[0;34m,\u001b[0m \u001b[0maudio\u001b[0m \u001b[0;34m=\u001b[0m \u001b[0mwavfile\u001b[0m\u001b[0;34m.\u001b[0m\u001b[0mread\u001b[0m\u001b[0;34m(\u001b[0m\u001b[0mfile_paths\u001b[0m\u001b[0;34m[\u001b[0m\u001b[0;36m0\u001b[0m\u001b[0;34m]\u001b[0m\u001b[0;34m)\u001b[0m\u001b[0;34m\u001b[0m\u001b[0;34m\u001b[0m\u001b[0m\n\u001b[0m\u001b[1;32m     10\u001b[0m    \u001b[0mmfcc_features\u001b[0m \u001b[0;34m=\u001b[0m \u001b[0mmfcc\u001b[0m\u001b[0;34m(\u001b[0m\u001b[0maudio\u001b[0m\u001b[0;34m,\u001b[0m \u001b[0msampling_freq\u001b[0m\u001b[0;34m,\u001b[0m \u001b[0mnfft\u001b[0m\u001b[0;34m=\u001b[0m\u001b[0;36m1024\u001b[0m\u001b[0;34m)\u001b[0m\u001b[0;34m\u001b[0m\u001b[0;34m\u001b[0m\u001b[0m\n\u001b[1;32m     11\u001b[0m    \u001b[0mprint\u001b[0m\u001b[0;34m(\u001b[0m\u001b[0mfile_paths\u001b[0m\u001b[0;34m[\u001b[0m\u001b[0;36m0\u001b[0m\u001b[0;34m]\u001b[0m\u001b[0;34m,\u001b[0m \u001b[0mmfcc_features\u001b[0m\u001b[0;34m.\u001b[0m\u001b[0mshape\u001b[0m\u001b[0;34m[\u001b[0m\u001b[0;36m0\u001b[0m\u001b[0;34m]\u001b[0m\u001b[0;34m)\u001b[0m\u001b[0;34m\u001b[0m\u001b[0;34m\u001b[0m\u001b[0m\n",
      "\u001b[0;31mIndexError\u001b[0m: list index out of range"
     ]
    },
    {
     "data": {
      "text/plain": [
       "<Figure size 1440x216 with 0 Axes>"
      ]
     },
     "metadata": {},
     "output_type": "display_data"
    }
   ],
   "source": [
    "import glob\n",
    "import os.path as path\n",
    "genre_list = ['normal', 'altenator', 'bearing', 'idler', 'kompresor', 'waterpump']\n",
    "print(len(genre_list))\n",
    "figure = plt.figure(figsize=(20,3))\n",
    "for idx ,genre in enumerate(genre_list): \n",
    "   example_data_path = \"genres/\" + genre\n",
    "   file_paths = glob.glob(path.join(example_data_path, \"*.wav\"))\n",
    "   sampling_freq, audio = wavfile.read(file_paths[0])\n",
    "   mfcc_features = mfcc(audio, sampling_freq, nfft=1024)\n",
    "   print(file_paths[0], mfcc_features.shape[0])\n",
    "   plt.yscale(\"linear\")\n",
    "   plt.matshow((mfcc_features.T)[:,:300])\n",
    "   plt.text(150, -10, genre, horizontalalignment=\"center\", fontsize=20)\n",
    " \n",
    "plt.yscale(\"linear\")\n",
    "plt.show()"
   ]
  },
  {
   "cell_type": "code",
   "execution_count": null,
   "id": "88b37324",
   "metadata": {},
   "outputs": [],
   "source": []
  }
 ],
 "metadata": {
  "kernelspec": {
   "display_name": "Python 3",
   "language": "python",
   "name": "python3"
  },
  "language_info": {
   "codemirror_mode": {
    "name": "ipython",
    "version": 3
   },
   "file_extension": ".py",
   "mimetype": "text/x-python",
   "name": "python",
   "nbconvert_exporter": "python",
   "pygments_lexer": "ipython3",
   "version": "3.8.8"
  }
 },
 "nbformat": 4,
 "nbformat_minor": 5
}
